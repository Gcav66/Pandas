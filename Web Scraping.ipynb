{
 "metadata": {
  "name": "",
  "signature": "sha256:cac3cb55f713102617e363f63b62b8874687060abb9d4697eb595e7801e6af9e"
 },
 "nbformat": 3,
 "nbformat_minor": 0,
 "worksheets": [
  {
   "cells": [
    {
     "cell_type": "code",
     "collapsed": false,
     "input": [
      "import requests\n",
      "from bs4 import BeautifulSoup, NavigableString, Tag\n",
      "import html5lib\n",
      "import re\n",
      "\n",
      "request = requests.get (\"http://music.arizona.edu/faculty_staff\")\n",
      "data = request.text\n",
      "\n",
      "#url = \"http://music.arizona.edu/faculty_staff\"\n",
      "#request = requests.get( url )\n",
      "#data = request.text\n",
      "domTree = BeautifulSoup(data, 'html5lib')\n",
      "#email = domTree.a.find_all\n",
      "\n",
      "#director = domTree.find(text=\"Director\")\n",
      "\n",
      "#mydivs = domTree.findAll(\"div\", { \"class\" : \"titles\" })\n",
      "\n",
      "for items in domTree.find_all('li', class_= \"teacherName\"):\n",
      "    print items\n",
      "\n",
      "'''\n",
      "emailFinder = '(mailto:)(\\w+@.*)'\n",
      "\n",
      "for links in domTree.find_all('a'):\n",
      "    emailAddress = re.search(emailFinder, str(links))\n",
      "    if emailAddress:\n",
      "        print emailAddress.group(2)\n",
      "'''    \n"
     ],
     "language": "python",
     "metadata": {},
     "outputs": [
      {
       "metadata": {},
       "output_type": "pyout",
       "prompt_number": 32,
       "text": [
        "\"\\nemailFinder = '(mailto:)(\\\\w+@.*)'\\n\\nfor links in domTree.find_all('a'):\\n    emailAddress = re.search(emailFinder, str(links))\\n    if emailAddress:\\n        print emailAddress.group(2)\\n\""
       ]
      }
     ],
     "prompt_number": 32
    },
    {
     "cell_type": "code",
     "collapsed": false,
     "input": [
      "import sys\n",
      "print sys.path"
     ],
     "language": "python",
     "metadata": {},
     "outputs": [
      {
       "output_type": "stream",
       "stream": "stdout",
       "text": [
        "['', 'C:\\\\Users\\\\558358\\\\AppData\\\\Local\\\\Continuum\\\\Anaconda\\\\python27.zip', 'C:\\\\Users\\\\558358\\\\AppData\\\\Local\\\\Continuum\\\\Anaconda\\\\DLLs', 'C:\\\\Users\\\\558358\\\\AppData\\\\Local\\\\Continuum\\\\Anaconda\\\\lib', 'C:\\\\Users\\\\558358\\\\AppData\\\\Local\\\\Continuum\\\\Anaconda\\\\lib\\\\plat-win', 'C:\\\\Users\\\\558358\\\\AppData\\\\Local\\\\Continuum\\\\Anaconda\\\\lib\\\\lib-tk', 'C:\\\\Users\\\\558358\\\\AppData\\\\Local\\\\Continuum\\\\Anaconda', 'C:\\\\Users\\\\558358\\\\AppData\\\\Local\\\\Continuum\\\\Anaconda\\\\lib\\\\site-packages', 'C:\\\\Users\\\\558358\\\\AppData\\\\Local\\\\Continuum\\\\Anaconda\\\\lib\\\\site-packages\\\\PIL', 'C:\\\\Users\\\\558358\\\\AppData\\\\Local\\\\Continuum\\\\Anaconda\\\\lib\\\\site-packages\\\\win32', 'C:\\\\Users\\\\558358\\\\AppData\\\\Local\\\\Continuum\\\\Anaconda\\\\lib\\\\site-packages\\\\win32\\\\lib', 'C:\\\\Users\\\\558358\\\\AppData\\\\Local\\\\Continuum\\\\Anaconda\\\\lib\\\\site-packages\\\\Pythonwin', 'C:\\\\Users\\\\558358\\\\AppData\\\\Local\\\\Continuum\\\\Anaconda\\\\lib\\\\site-packages\\\\runipy-0.1.0-py2.7.egg', 'C:\\\\Users\\\\558358\\\\AppData\\\\Local\\\\Continuum\\\\Anaconda\\\\lib\\\\site-packages\\\\setuptools-3.6-py2.7.egg', 'C:\\\\Users\\\\558358\\\\AppData\\\\Local\\\\Continuum\\\\Anaconda\\\\lib\\\\site-packages\\\\IPython\\\\extensions']\n"
       ]
      }
     ],
     "prompt_number": 15
    },
    {
     "cell_type": "code",
     "collapsed": false,
     "input": [
      "soup = BeautifulSoup(html_doc)\n",
      "\n",
      "html_doc = \"\"\"\n",
      "<html><head><title>The Dormouse's story</title></head>\n",
      "<body>\n",
      "<p class=\"title\"><b>The Dormouse's story</b></p>\n",
      "\n",
      "<p class=\"story\">Once upon a time there were three little sisters; and their names were\n",
      "<a href=\"http://example.com/elsie\" class=\"sister\" id=\"link1\">Elsie</a>,\n",
      "<a href=\"http://example.com/lacie\" class=\"sister\" id=\"link2\">Lacie</a> and\n",
      "<a href=\"http://example.com/tillie\" class=\"sister\" id=\"link3\">Tillie</a>;\n",
      "and they lived at the bottom of a well.</p>\n",
      "\n",
      "<p class=\"story\">...</p>\n",
      "\"\"\"\n",
      "\n",
      "print(soup.prettify())"
     ],
     "language": "python",
     "metadata": {},
     "outputs": [
      {
       "output_type": "stream",
       "stream": "stdout",
       "text": [
        "<html>\n",
        " <head>\n",
        "  <title>\n",
        "   The Dormouse's story\n",
        "  </title>\n",
        " </head>\n",
        " <body>\n",
        "  <p class=\"title\">\n",
        "   <b>\n",
        "    The Dormouse's story\n",
        "   </b>\n",
        "  </p>\n",
        "  <p class=\"story\">\n",
        "   Once upon a time there were three little sisters; and their names were\n",
        "   <a class=\"sister\" href=\"http://example.com/elsie\" id=\"link1\">\n",
        "    Elsie\n",
        "   </a>\n",
        "   ,\n",
        "   <a class=\"sister\" href=\"http://example.com/lacie\" id=\"link2\">\n",
        "    Lacie\n",
        "   </a>\n",
        "   and\n",
        "   <a class=\"sister\" href=\"http://example.com/tillie\" id=\"link3\">\n",
        "    Tillie\n",
        "   </a>\n",
        "   ;\n",
        "and they lived at the bottom of a well.\n",
        "  </p>\n",
        "  <p class=\"story\">\n",
        "   ...\n",
        "  </p>\n",
        " </body>\n",
        "</html>\n"
       ]
      }
     ],
     "prompt_number": 54
    },
    {
     "cell_type": "code",
     "collapsed": false,
     "input": [
      "soup.get_text()"
     ],
     "language": "python",
     "metadata": {},
     "outputs": [
      {
       "metadata": {},
       "output_type": "pyout",
       "prompt_number": 58,
       "text": [
        "u\"The Dormouse's story\\n\\nThe Dormouse's story\\nOnce upon a time there were three little sisters; and their names were\\nElsie,\\nLacie and\\nTillie;\\nand they lived at the bottom of a well.\\n...\\n\""
       ]
      }
     ],
     "prompt_number": 58
    },
    {
     "cell_type": "code",
     "collapsed": false,
     "input": [
      "import re\n",
      "text = \"foo   bar\\t baz \\tqux\"\n",
      "re.split('\\s+', text)"
     ],
     "language": "python",
     "metadata": {},
     "outputs": [
      {
       "metadata": {},
       "output_type": "pyout",
       "prompt_number": 22,
       "text": [
        "['foo', 'bar', 'baz', 'qux']"
       ]
      }
     ],
     "prompt_number": 22
    },
    {
     "cell_type": "code",
     "collapsed": false,
     "input": [
      "regex = re.compile('\\s+')"
     ],
     "language": "python",
     "metadata": {},
     "outputs": [],
     "prompt_number": 23
    },
    {
     "cell_type": "code",
     "collapsed": false,
     "input": [
      "regex.split(text)"
     ],
     "language": "python",
     "metadata": {},
     "outputs": [
      {
       "metadata": {},
       "output_type": "pyout",
       "prompt_number": 24,
       "text": [
        "['foo', 'bar', 'baz', 'qux']"
       ]
      }
     ],
     "prompt_number": 24
    },
    {
     "cell_type": "code",
     "collapsed": false,
     "input": [
      "regex.findall(text)"
     ],
     "language": "python",
     "metadata": {},
     "outputs": [
      {
       "metadata": {},
       "output_type": "pyout",
       "prompt_number": 25,
       "text": [
        "['   ', '\\t ', ' \\t']"
       ]
      }
     ],
     "prompt_number": 25
    },
    {
     "cell_type": "code",
     "collapsed": false,
     "input": [
      "text = \"\"\"Dave dave@google.com\n",
      "Steve steve@gmail.com\n",
      "Rob rob@gmail.com\n",
      "Ryan ryan@yahoo.com\n",
      "\"\"\"\n",
      "\n",
      "pattern = r'[A-Z0-9._%+-]+@[A-Z0-9.-]+\\.[A-Z]{2,4}'\n",
      "\n",
      "regex = re.compile(pattern, flags=re.IGNORECASE)\n",
      "\n",
      "regex.findall(text)"
     ],
     "language": "python",
     "metadata": {},
     "outputs": [
      {
       "metadata": {},
       "output_type": "pyout",
       "prompt_number": 26,
       "text": [
        "['dave@google.com', 'steve@gmail.com', 'rob@gmail.com', 'ryan@yahoo.com']"
       ]
      }
     ],
     "prompt_number": 26
    },
    {
     "cell_type": "code",
     "collapsed": false,
     "input": [
      "import requests\n",
      "from bs4 import BeautifulSoup, NavigableString, Tag\n",
      "import html5lib\n",
      "import re\n",
      "\n",
      "request = requests.get (\"http://music.arizona.edu/faculty_staff\")\n",
      "data = request.text\n",
      "\n",
      "#url = \"http://music.arizona.edu/faculty_staff\"\n",
      "#request = requests.get( url )\n",
      "#data = request.text\n",
      "domTree = BeautifulSoup(data, 'html5lib')\n",
      "soup = BeautifulSoup(data)\n",
      "email = domTree.a.find_all\n",
      "#director = domTree.find(text=\"Director\")\n",
      "\n",
      "#mydivs = domTree.findAll(\"div\", { \"class\" : \"titles\" })\n",
      "\n",
      "#for items in domTree.find_all('tr', 'personrow'):\n",
      "#    print items\n",
      "profnames = []\n",
      "proftitles = []\n",
      "profphone = []\n",
      "profrm = []\n",
      "profemail = []\n",
      "\n",
      "profs = {}\n",
      "profs['name'] = profnames\n",
      "profs['title'] = proftitles\n",
      "profs['phone'] = profphone\n",
      "profs['room #'] = profrm\n",
      "profs['email'] = profemail\n",
      "\n",
      "name = r'>(\\w+\\s.*)</a'\n",
      "title = r'>(\\w+\\s?\\w+).*</span>'\n",
      "email = r'mailto:(\\w+@\\w+.\\w+.\\w+)'\n",
      "room = r'<li>(\\w+\\s\\w+,?\\s\\w+\\s\\w+)<'\n",
      "phone = r'<li>(\\d{3}-\\d{3}-\\d{4})<'\n",
      "\n",
      "for x in soup.find_all(class_= 'namep'):\n",
      "    names = re.search(name, str(x))\n",
      "    if names:\n",
      "        profnames.append(names.group(1))    \n",
      "\n",
      "for z in soup.find_all(class_= 'eds-title'):\n",
      "    titles = re.search(title, str(z))\n",
      "    if titles:\n",
      "        proftitles.append(titles.group(1))\n",
      "\n",
      "for a in soup.find_all(class_= 'contact'):\n",
      "    emails = re.search(email, str(a))\n",
      "    if emails:\n",
      "        profemail.append(emails.group(1))\n",
      "\n",
      "        \n"
     ],
     "language": "python",
     "metadata": {},
     "outputs": [
      {
       "metadata": {},
       "output_type": "pyout",
       "prompt_number": 95,
       "text": [
        "['rawoods@u.arizona.edu',\n",
        " 'bbc@email.arizona.edu',\n",
        " 'ereid@email.arizona.edu',\n",
        " 'brobeck@email.arizona.edu',\n",
        " 'johnfahrenwald@email.arizona.edu',\n",
        " 'knolan@email.arizona.edu',\n",
        " 'robinh@email.arizona.edu',\n",
        " 'bmoon@email.arizona.edu',\n",
        " 'keithp@email.arizona.edu',\n",
        " 'sturman@email.arizona.edu',\n",
        " 'keyl@email.arizona.edu',\n",
        " 'bmoon@email.arizona.edu',\n",
        " 'mugmon@email.arizona.edu',\n",
        " 'asia@email.arizona.edu',\n",
        " 'ctwalsh@email.arizona.edu',\n",
        " 'sturman@email.arizona.edu',\n",
        " 'brobeck@email.arizona.edu',\n",
        " 'mugmon@email.arizona.edu',\n",
        " 'jrosenbl@email.arizona.edu',\n",
        " 'pdecker@email.arizona.edu',\n",
        " 'pomeroy@email.arizona.edu',\n",
        " 'dgtraut@email.arizona.edu',\n",
        " 'acoyle@email.arizona.edu',\n",
        " 'jrees@email.arizona.edu',\n",
        " 'hansong@email.arizona.edu',\n",
        " 'bbc@email.arizona.edu',\n",
        " 'erschaue@email.arizona.edu',\n",
        " 'jhaskell@email.arizona.edu',\n",
        " 'mpaiewon@email.arizona.edu',\n",
        " 'gvelez@email.arizona.edu',\n",
        " 'cockrell@email.arizona.edu',\n",
        " 'jhaskell@email.arizona.edu',\n",
        " 'robinh@email.arizona.edu',\n",
        " 'mpaiewon@email.arizona.edu',\n",
        " 'kelland@email.arizona.edu',\n",
        " 'mdauphin@email.arizona.edu',\n",
        " 'fanp@u.arizona.edu',\n",
        " 'gibsont@email.arizona.edu',\n",
        " 'milbauer@email.arizona.edu',\n",
        " 'rawoods@u.arizona.edu',\n",
        " 'zdechlik@email.arizona.edu',\n",
        " 'pdecker@email.arizona.edu',\n",
        " 'davidward@email.arizona.edu',\n",
        " 'laurenroth@email.arizona.edu',\n",
        " 'mspieker@email.arizona.edu',\n",
        " 'hmx@email.arizona.edu',\n",
        " 'mvotapek@email.arizona.edu',\n",
        " 'palejo@email.arizona.edu',\n",
        " 'cmclaugh@email.arizona.edu',\n",
        " 'rtp@email.arizona.edu',\n",
        " 'kdauphin@email.arizona.edu',\n",
        " 'hirst@email.arizona.edu',\n",
        " 'faye@email.arizona.edu',\n",
        " 'roec@email.arizona.edu',\n",
        " 'dkatzen@email.arizona.edu',\n",
        " 'ereid@email.arizona.edu',\n",
        " 'mpaiewon@email.arizona.edu',\n",
        " 'kgthomas@email.arizona.edu',\n",
        " 'robinh@email.arizona.edu',\n",
        " 'nweinber@email.arizona.edu',\n",
        " 'bluce@u.arizona.edu',\n",
        " 'sarafraker@email.arizona.edu',\n",
        " 'jerryk@email.arizona.edu',\n",
        " 'wdietz@email.arizona.edu',\n",
        " 'keepe@email.arizona.edu',\n",
        " 'kelland@email.arizona.edu',\n",
        " 'sccooper@email.arizona.edu',\n",
        " 'tdraves@email.arizona.edu',\n",
        " 'dhamann@email.arizona.edu',\n",
        " 'jmanter@email.arizona.edu',\n",
        " 'mspieker@email.arizona.edu',\n",
        " 'dotson@email.arizona.edu',\n",
        " 'jshresth@email.arizona.edu',\n",
        " 'jknoebel@email.arizona.edu',\n",
        " 'bbc@email.arizona.edu',\n",
        " 'brobeck@email.arizona.edu',\n",
        " 'lyneen@email.arizona.edu',\n",
        " 'dmcguigg@email.arizona.edu',\n",
        " 'brauns@email.arizona.edu',\n",
        " 'rhintze@email.arizona.edu',\n",
        " 'ingvi@email.arizona.edu',\n",
        " 'ross@email.arizona.edu',\n",
        " 'callen1@email.arizona.edu',\n",
        " 'cvg@email.arizona.edu',\n",
        " 'deon@email.arizona.edu',\n",
        " 'jknoebel@email.arizona.edu']"
       ]
      }
     ],
     "prompt_number": 95
    },
    {
     "cell_type": "code",
     "collapsed": false,
     "input": [],
     "language": "python",
     "metadata": {},
     "outputs": []
    }
   ],
   "metadata": {}
  }
 ]
}